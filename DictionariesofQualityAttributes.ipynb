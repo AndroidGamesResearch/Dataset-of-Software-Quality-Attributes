{
 "cells": [
  {
   "cell_type": "markdown",
   "id": "a3cf77b7",
   "metadata": {},
   "source": [
    "# McCall Quality Model"
   ]
  },
  {
   "cell_type": "code",
   "execution_count": 3,
   "id": "64a0e5f2",
   "metadata": {},
   "outputs": [],
   "source": [
    "# McCall Quality Model\n",
    "mccall_attributes_definitions = {\n",
    "    'Quality Attribute': ['Correctness', 'Reliability', 'Efficiency', 'Integrity', 'Usability', 'Maintainability', 'Flexibility', 'Testability', 'Portability'],\n",
    "    'Definition': ['The degree to which the software satisfies its specified requirements without errors or faults',\n",
    "                   'The capability of the software to maintain its performance under stated conditions for a specified period',\n",
    "                   'The ability of the software to provide appropriate performance relative to the amount of resources used',\n",
    "                   'The capability of the software to prevent unauthorized access and changes to data',\n",
    "                   'The extent to which the software is easy to use and understand',\n",
    "                   'The ease with which the software can be modified, corrected, or adapted',\n",
    "                   'The ability of the software to be adapted to different specified environments without applying actions or means other than those provided for this purpose',\n",
    "                   'The ease with which the software can be tested to ensure its correctness and reliability',\n",
    "                   'The ability of the software to be transferred from one environment to another']\n",
    "}\n",
    "\n",
    "mccall_attributes_characteristics = {\n",
    "    'Quality Attribute': ['Correctness', 'Reliability', 'Efficiency', 'Integrity', 'Usability', 'Maintainability', 'Flexibility', 'Testability', 'Portability'],\n",
    "    'Characteristic 1': ['Number of defects', 'Mean Time to Failure', 'Resource usage', 'Access control', 'User satisfaction', 'Modifiability', 'Adaptability', 'Test coverage', 'Platform independence'],\n",
    "    'Characteristic 2': ['User requirements', 'Mean Time to Repair', 'Memory usage', 'Authentication methods', 'Learnability', 'Correctability', 'Configurability', 'Test case count', 'Hardware independence'],\n",
    "    'Characteristic 3': ['System requirements', 'Failure rate', 'Device usage', 'Data integrity', 'Ease of use', 'Stability', 'Extensibility', 'Test automation', 'Operating system independence']\n",
    "}\n",
    "\n",
    "#print(mccall_attributes_definitions)"
   ]
  },
  {
   "cell_type": "markdown",
   "id": "1ddcacae",
   "metadata": {},
   "source": [
    "# Boehm's Quality Model"
   ]
  },
  {
   "cell_type": "code",
   "execution_count": 4,
   "id": "2c4dfa62",
   "metadata": {},
   "outputs": [],
   "source": [
    "# Boehm's Quality Model\n",
    "boehm_attributes_definitions = {\n",
    "    'Quality Attribute': ['Reliability', 'Usability', 'Performance', 'Supportability', 'Functionality'],\n",
    "    'Definition': ['The ability of the software to perform its functions under stated conditions for a specified period',\n",
    "                   'The extent to which the software is user-friendly, easy to use, and aesthetically pleasing',\n",
    "                   'The responsiveness, speed, and efficiency with which a system responds to user actions',\n",
    "                   'The ease with which a system can be supported, maintained, and evolved',\n",
    "                   'The set of features and capabilities provided by the system']\n",
    "}\n",
    "\n",
    "boehm_attributes_characteristics = {\n",
    "    'Quality Attribute': ['Reliability', 'Usability', 'Performance', 'Supportability', 'Functionality'],\n",
    "    'Characteristic 1': ['Mean Time to Failure', 'User satisfaction', 'Response time', 'Ease of maintenance', 'Number of functions'],\n",
    "    'Characteristic 2': ['Mean Time to Repair', 'Learnability', 'Throughput', 'Ease of support', 'User requirements'],\n",
    "    'Characteristic 3': ['Failure rate', 'Efficiency', 'Resource utilization', 'Adaptability', 'System requirements']\n",
    "}\n"
   ]
  },
  {
   "cell_type": "markdown",
   "id": "b720eb42",
   "metadata": {},
   "source": [
    "# Dromey Model"
   ]
  },
  {
   "cell_type": "code",
   "execution_count": 5,
   "id": "cff811f3",
   "metadata": {},
   "outputs": [],
   "source": [
    "# Dromey Model\n",
    "dromey_attributes_definitions = {\n",
    "    'Quality Attribute': ['Compatibility', 'Efficiency', 'Functionality', 'Flexibility', 'Interoperability', 'Maintainability', 'Portability', 'Reliability', 'Security', 'Testability', 'Usability'],\n",
    "    'Definition': ['The degree to which a system can operate with other systems or products without any special effort',\n",
    "                   'The optimal use of resources to achieve the desired system performance',\n",
    "                   'The set of features and capabilities provided by the system',\n",
    "                   'The ease with which the system can be adapted or extended to meet changing requirements',\n",
    "                   'The ability of the system to work seamlessly with other systems',\n",
    "                   'The ease with which the system can be maintained, updated, and repaired',\n",
    "                   'The ability of a system to run on different platforms or environments',\n",
    "                   'The system\\'s ability to perform consistently and predictably under various conditions',\n",
    "                   'The protection of the system and its data against unauthorized access and attacks',\n",
    "                   'The ease with which the system can be tested to ensure its correctness and reliability',\n",
    "                   'The user-friendliness and ease of use of the system']\n",
    "}\n",
    "\n",
    "dromey_attributes_characteristics = {\n",
    "    'Quality Attribute': ['Compatibility', 'Efficiency', 'Functionality', 'Flexibility', 'Interoperability', 'Maintainability', 'Portability', 'Reliability', 'Security', 'Testability', 'Usability'],\n",
    "    'Characteristic 1': ['Standards compliance', 'CPU usage', 'Number of functions', 'Customizability', 'Protocol compatibility', 'Code readability', 'Platform independence', 'MTTF (Mean Time to Failure)', 'Encryption strength', 'Test coverage', 'User satisfaction'],\n",
    "    'Characteristic 2': ['Backward compatibility', 'Memory usage', 'User requirements', 'Configurability', 'Data format compatibility', 'Modularity', 'Hardware independence', 'MTTR (Mean Time to Repair)', 'Authentication methods', 'Test case count', 'Learnability'],\n",
    "    'Characteristic 3': ['Forward compatibility', 'Disk usage', 'System requirements', 'Extensibility', 'API compatibility', 'Comment density', 'Operating system independence', 'Failure rate', 'Access control', 'Test automation', 'Ease of Use']\n",
    "}\n"
   ]
  },
  {
   "cell_type": "markdown",
   "id": "a08fd73b",
   "metadata": {},
   "source": [
    "# FURPS Model"
   ]
  },
  {
   "cell_type": "code",
   "execution_count": null,
   "id": "dc1773d4",
   "metadata": {},
   "outputs": [],
   "source": [
    "# FURPS Model\n",
    "furps_attributes_definitions = {\n",
    "    'Quality Attribute': ['Functionality', 'Usability', 'Reliability', 'Performance', 'Supportability'],\n",
    "    'Definition': ['The set of features and capabilities provided by the system',\n",
    "                   'The extent to which a product is user-friendly, easy to use, and aesthetically pleasing',\n",
    "                   'The ability of a system to perform its functions under stated conditions for a specified period',\n",
    "                   'The responsiveness, speed, and efficiency with which a system responds to user actions',\n",
    "                   'The ease with which a system can be supported, maintained, and evolved']\n",
    "}\n",
    "\n",
    "furps_attributes_characteristics = {\n",
    "    'Quality Attribute': ['Functionality', 'Usability', 'Reliability', 'Performance', 'Supportability'],\n",
    "    'Characteristic 1': ['Number of functions', 'User satisfaction', 'Mean Time to Failure', 'Response time', 'Ease of maintenance'],\n",
    "    'Characteristic 2': ['User requirements', 'Learnability', 'Mean Time to Repair', 'Throughput', 'Ease of support'],\n",
    "    'Characteristic 3': ['System requirements', 'Efficiency', 'Failure rate', 'Resource utilization', 'Adaptability']\n",
    "}\n"
   ]
  },
  {
   "cell_type": "markdown",
   "id": "ca160707",
   "metadata": {},
   "source": [
    "# ISO/IEC 25010 Quality Model"
   ]
  },
  {
   "cell_type": "code",
   "execution_count": 6,
   "id": "6827a631",
   "metadata": {},
   "outputs": [],
   "source": [
    "# ISO/IEC 25010 Quality Model\n",
    "isoiec_attributes_definitions = {\n",
    "    'Quality Attribute': ['Compatibility', 'Performance efficiency', 'Usability', 'Reliability', 'Security', 'Maintainability', 'Portability'],\n",
    "    'Definition': ['The degree to which a system can operate with other systems or products without any special effort',\n",
    "                   'The performance relative to the amount of resources used under stated conditions',\n",
    "                   'The extent to which a product can be used by specified users to achieve specified goals with effectiveness, efficiency, and satisfaction',\n",
    "                   'The ability of a system or component to perform its required functions under stated conditions for a specified period of time',\n",
    "                   'The degree to which a product or system protects information and data so that unauthorized access or modifications can be prevented',\n",
    "                   'The degree of effectiveness and efficiency with which a product or system can be modified to correct defects, meet new requirements, and improve performance',\n",
    "                   'The ability of a system or software product to be transferred from one environment to another']\n",
    "}\n",
    "\n",
    "isoiec_attributes_characteristics = {\n",
    "    'Quality Attribute': ['Compatibility', 'Performance efficiency', 'Usability', 'Reliability', 'Security', 'Maintainability', 'Portability'],\n",
    "    'Characteristic 1': ['Standards compliance', 'Performance relative to resources used', 'User-friendly, easy to use, and aesthetically pleasing', 'Perform its required functions under stated conditions', 'Protects information and data', 'Degree of effectiveness and efficiency with which it can be modified', 'Transferred from one environment to another'],\n",
    "    'Characteristic 2': ['Backward compatibility', 'Efficiency', 'Extent to which a product can be used by specified users', 'Duration of performing required functions', 'Prevents unauthorized access or modifications', 'Correct defects, meet new requirements, and improve performance', ''],\n",
    "    'Characteristic 3': ['Forward compatibility', 'Resource usage under stated conditions', 'Achieve specified goals with effectiveness, efficiency, and satisfaction', 'Specified period of time', '','Improve performance', '']\n",
    "}\n"
   ]
  },
  {
   "cell_type": "markdown",
   "id": "97b04dc7",
   "metadata": {},
   "source": [
    "# Merged Quality Attributes"
   ]
  },
  {
   "cell_type": "code",
   "execution_count": 7,
   "id": "2bea7bae",
   "metadata": {},
   "outputs": [],
   "source": [
    "# Merged Quality Attributes\n",
    "merged_attributes = {\n",
    "    'Quality Attribute': ['Compatibility', 'Correctness', 'Compliance', 'Efficiency', 'Functionality', 'Flexibility', 'Interoperability', 'Maintainability', 'Portability', 'Reliability', 'Security', 'Supportability', 'Testability', 'Usability'],\n",
    "    'Definition': ['The degree to which a system can operate with other systems or software',\n",
    "                   'The accuracy and reliability of the system in delivering the intended results',\n",
    "                   'Adherence to relevant standards, regulations, and customer requirements',\n",
    "                   'Optimal use of resources to achieve the desired system performance',\n",
    "                   'The ability of the system to deliver the intended features and services',\n",
    "                   'The ease with which the system can be adapted or extended to meet changing requirements',\n",
    "                   'The ability of the system to work seamlessly with other systems',\n",
    "                   'The ease with which the system can be maintained, updated, and repaired',\n",
    "                   'The ability of the system to run on different platforms or environments',\n",
    "                   'The system\\'s ability to perform consistently and predictably under various conditions',\n",
    "                   'The protection of the system and its data against unauthorized access and attacks',\n",
    "                   'The ease with which the system can be supported, serviced, and maintained',\n",
    "                   'The ease with which the system can be tested to ensure its correctness and reliability',\n",
    "                   'The user-friendliness and ease of use of the system'],\n",
    "    'Characteristic 1': ['Platform independence', 'Number of defects', 'Customer Support', 'Resource usage', 'Service', 'Customizability', 'Protocol compatibility', 'Code readability', 'Audio', 'MTTF (Mean Time to Failure)', 'Encryption strength', 'Accessibility', 'Test coverage', 'User satisfaction'],\n",
    "    'Characteristic 2': ['Hardware independence', 'User requirements', 'User Feedback', 'Memory usage', 'Malfunction', 'Configurability', 'Data format compatibility', 'Modularity', 'Graphics', 'MTTR (Mean Time to Repair)', 'Authentication methods', 'User Assistance', 'Test case count', 'Learnability'],\n",
    "    'Characteristic 3': ['Operating System independence', 'System requirements', 'Response Time', 'Device usage', 'Performance', 'Extensibility', 'API compatibility', 'Comment density', 'Video', 'Failure rate', 'Access control', 'Troubleshooting support', 'Test automation', 'Ease of Use']\n",
    "}\n"
   ]
  },
  {
   "cell_type": "code",
   "execution_count": null,
   "id": "48cd6795",
   "metadata": {},
   "outputs": [],
   "source": []
  }
 ],
 "metadata": {
  "kernelspec": {
   "display_name": "Python 3",
   "language": "python",
   "name": "python3"
  },
  "language_info": {
   "codemirror_mode": {
    "name": "ipython",
    "version": 3
   },
   "file_extension": ".py",
   "mimetype": "text/x-python",
   "name": "python",
   "nbconvert_exporter": "python",
   "pygments_lexer": "ipython3",
   "version": "3.8.8"
  }
 },
 "nbformat": 4,
 "nbformat_minor": 5
}
